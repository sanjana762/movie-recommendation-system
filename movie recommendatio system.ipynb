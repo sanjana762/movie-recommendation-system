import pandas as pd 
import numpy as np 
df1=pd.read_csv('/kaggle/input/movie-recommendation-system/tmdb_5000_credits.csv')
df2=pd.read_csv('/kaggle/input/movie-recommendation-system/tmdb_5000_movies.csv')
